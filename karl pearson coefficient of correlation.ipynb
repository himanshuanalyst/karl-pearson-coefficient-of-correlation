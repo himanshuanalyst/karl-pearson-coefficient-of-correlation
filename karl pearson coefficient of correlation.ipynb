{
 "cells": [
  {
   "cell_type": "markdown",
   "id": "c6a5568f",
   "metadata": {},
   "source": [
    "# I am trying to make class by which we can find standard deveation of x and y and covarience of x and y and correlation between x and y."
   ]
  },
  {
   "cell_type": "code",
   "execution_count": 60,
   "id": "802386b0",
   "metadata": {},
   "outputs": [],
   "source": [
    "import pandas as pd\n",
    "import numpy as np\n",
    "import logging\n",
    "import statistics\n",
    "import math\n",
    "\n",
    "logging.basicConfig(filename=\"pearson_coefficient.log\", level=logging.DEBUG, format='%(levelname)s %(asctime)s %(name)s %(message)s')\n",
    "logging.info('this is my log file with timestamp')\n",
    "class pearson_coefficient:\n",
    "        def __init__(self, ind, dep):\n",
    "            self.ind = ind\n",
    "            self.dep = dep\n",
    "\n",
    "        def cov(self):\n",
    "            \"\"\" Finding covarience of X and Y\n",
    "            X and Y shuld be in series and of equal length.\n",
    "            \"\"\"\n",
    "            try:\n",
    "                logging.warning('You have to take x and y in series format')\n",
    "                x_mean_diff = (self.ind - statistics.mean(self.ind))\n",
    "                y_mean_diff = (self.dep - statistics.mean(self.dep))\n",
    "                cov_x_y = (x_mean_diff * y_mean_diff).sum() / (len(self.ind) - 1)\n",
    "                return cov_x_y\n",
    "\n",
    "            except Exception as e:\n",
    "                logging.critical('Give x and y in series ')\n",
    "                logging.error(e)\n",
    "                logging.exception(e)\n",
    "\n",
    "        def sample_std_x(self):\n",
    "            try:\n",
    "                std_x = math.sqrt((((self.ind - statistics.mean(self.ind)) ** 2).sum()) / (len(self.ind) - 1))\n",
    "                return std_x\n",
    "            except Exception as e:\n",
    "                logging.critical('Give x and y in series ')\n",
    "                logging.error(e)\n",
    "                logging.exception(e)\n",
    "\n",
    "        def sample_std_y(self):\n",
    "            try:\n",
    "                std_y = math.sqrt((((self.dep - statistics.mean(self.dep)) ** 2).sum()) / (len(self.dep) - 1))\n",
    "                return std_y\n",
    "            except Exception as e:\n",
    "                logging.critical('Give x and y in series ')\n",
    "                logging.error(e)\n",
    "                logging.exception(e)\n",
    "\n",
    "        def corr_coff(self):\n",
    "            try:\n",
    "                r = cov() / (sample_std_x() * sample_std_y())\n",
    "                return r\n",
    "            except Exception as e:\n",
    "                logging.critical('Give x and y in series ')\n",
    "                logging.error(e)\n",
    "                logging.exception(e)\n",
    "\n",
    "        def scatter(self):\n",
    "            try:\n",
    "                import matplotlib.pyplot as plt\n",
    "                plt.scatter(self.ind, self.dep)\n",
    "                return plt.show()\n",
    "            except Exception as e:\n",
    "                logging.critical('Give x and y in series ')\n",
    "                logging.error(e)\n",
    "                logging.exception(e)\n",
    "\n",
    "logging.shutdown()"
   ]
  },
  {
   "cell_type": "code",
   "execution_count": 61,
   "id": "2d924691",
   "metadata": {},
   "outputs": [],
   "source": [
    "df=pd.read_csv(\"machine.csv\",names=[\"vendor name\",\"Model Name\",\"MYCT\",\"MMIN\",\"MMAX\",\"CACH\",\"CHMIN\",\"CHMAX\",\"PRP\",\"ERP\"])"
   ]
  },
  {
   "cell_type": "code",
   "execution_count": 62,
   "id": "9efadf2a",
   "metadata": {},
   "outputs": [
    {
     "data": {
      "text/html": [
       "<div>\n",
       "<style scoped>\n",
       "    .dataframe tbody tr th:only-of-type {\n",
       "        vertical-align: middle;\n",
       "    }\n",
       "\n",
       "    .dataframe tbody tr th {\n",
       "        vertical-align: top;\n",
       "    }\n",
       "\n",
       "    .dataframe thead th {\n",
       "        text-align: right;\n",
       "    }\n",
       "</style>\n",
       "<table border=\"1\" class=\"dataframe\">\n",
       "  <thead>\n",
       "    <tr style=\"text-align: right;\">\n",
       "      <th></th>\n",
       "      <th>vendor name</th>\n",
       "      <th>Model Name</th>\n",
       "      <th>MYCT</th>\n",
       "      <th>MMIN</th>\n",
       "      <th>MMAX</th>\n",
       "      <th>CACH</th>\n",
       "      <th>CHMIN</th>\n",
       "      <th>CHMAX</th>\n",
       "      <th>PRP</th>\n",
       "      <th>ERP</th>\n",
       "    </tr>\n",
       "  </thead>\n",
       "  <tbody>\n",
       "    <tr>\n",
       "      <th>0</th>\n",
       "      <td>adviser</td>\n",
       "      <td>32/60</td>\n",
       "      <td>125</td>\n",
       "      <td>256</td>\n",
       "      <td>6000</td>\n",
       "      <td>256</td>\n",
       "      <td>16</td>\n",
       "      <td>128</td>\n",
       "      <td>198</td>\n",
       "      <td>199</td>\n",
       "    </tr>\n",
       "    <tr>\n",
       "      <th>1</th>\n",
       "      <td>amdahl</td>\n",
       "      <td>470v/7</td>\n",
       "      <td>29</td>\n",
       "      <td>8000</td>\n",
       "      <td>32000</td>\n",
       "      <td>32</td>\n",
       "      <td>8</td>\n",
       "      <td>32</td>\n",
       "      <td>269</td>\n",
       "      <td>253</td>\n",
       "    </tr>\n",
       "    <tr>\n",
       "      <th>2</th>\n",
       "      <td>amdahl</td>\n",
       "      <td>470v/7a</td>\n",
       "      <td>29</td>\n",
       "      <td>8000</td>\n",
       "      <td>32000</td>\n",
       "      <td>32</td>\n",
       "      <td>8</td>\n",
       "      <td>32</td>\n",
       "      <td>220</td>\n",
       "      <td>253</td>\n",
       "    </tr>\n",
       "    <tr>\n",
       "      <th>3</th>\n",
       "      <td>amdahl</td>\n",
       "      <td>470v/7b</td>\n",
       "      <td>29</td>\n",
       "      <td>8000</td>\n",
       "      <td>32000</td>\n",
       "      <td>32</td>\n",
       "      <td>8</td>\n",
       "      <td>32</td>\n",
       "      <td>172</td>\n",
       "      <td>253</td>\n",
       "    </tr>\n",
       "    <tr>\n",
       "      <th>4</th>\n",
       "      <td>amdahl</td>\n",
       "      <td>470v/7c</td>\n",
       "      <td>29</td>\n",
       "      <td>8000</td>\n",
       "      <td>16000</td>\n",
       "      <td>32</td>\n",
       "      <td>8</td>\n",
       "      <td>16</td>\n",
       "      <td>132</td>\n",
       "      <td>132</td>\n",
       "    </tr>\n",
       "  </tbody>\n",
       "</table>\n",
       "</div>"
      ],
      "text/plain": [
       "  vendor name Model Name  MYCT  MMIN   MMAX  CACH  CHMIN  CHMAX  PRP  ERP\n",
       "0     adviser      32/60   125   256   6000   256     16    128  198  199\n",
       "1      amdahl     470v/7    29  8000  32000    32      8     32  269  253\n",
       "2      amdahl    470v/7a    29  8000  32000    32      8     32  220  253\n",
       "3      amdahl    470v/7b    29  8000  32000    32      8     32  172  253\n",
       "4      amdahl    470v/7c    29  8000  16000    32      8     16  132  132"
      ]
     },
     "execution_count": 62,
     "metadata": {},
     "output_type": "execute_result"
    }
   ],
   "source": [
    "df.head()"
   ]
  },
  {
   "cell_type": "code",
   "execution_count": 63,
   "id": "a5426a17",
   "metadata": {},
   "outputs": [],
   "source": [
    "df=pearson_coefficient(df[\"MYCT\"],df[\"ERP\"])"
   ]
  },
  {
   "cell_type": "code",
   "execution_count": 64,
   "id": "56bb145d",
   "metadata": {},
   "outputs": [],
   "source": [
    "df.corr_coff()"
   ]
  },
  {
   "cell_type": "code",
   "execution_count": 65,
   "id": "3fcf7d36",
   "metadata": {},
   "outputs": [
    {
     "data": {
      "text/plain": [
       "-11615.864349466323"
      ]
     },
     "execution_count": 65,
     "metadata": {},
     "output_type": "execute_result"
    }
   ],
   "source": [
    "df.cov()"
   ]
  },
  {
   "cell_type": "code",
   "execution_count": 66,
   "id": "968482ee",
   "metadata": {},
   "outputs": [
    {
     "data": {
      "text/plain": [
       "260.26292594960546"
      ]
     },
     "execution_count": 66,
     "metadata": {},
     "output_type": "execute_result"
    }
   ],
   "source": [
    "df.sample_std_x()"
   ]
  },
  {
   "cell_type": "code",
   "execution_count": 67,
   "id": "5d953fa3",
   "metadata": {},
   "outputs": [
    {
     "data": {
      "text/plain": [
       "154.75710217478547"
      ]
     },
     "execution_count": 67,
     "metadata": {},
     "output_type": "execute_result"
    }
   ],
   "source": [
    "df.sample_std_y()"
   ]
  },
  {
   "cell_type": "code",
   "execution_count": 68,
   "id": "7041adbd",
   "metadata": {},
   "outputs": [
    {
     "data": {
      "image/png": "[encoded data removed]",
      "text/plain": [
       "<Figure size 432x288 with 1 Axes>"
      ]
     },
     "metadata": {
      "needs_background": "light"
     },
     "output_type": "display_data"
    }
   ],
   "source": [
    "df.scatter()"
   ]
  },
  {
   "cell_type": "code",
   "execution_count": null,
   "id": "0ff04ab0",
   "metadata": {},
   "outputs": [],
   "source": []
  }
 ],
 "metadata": {
  "kernelspec": {
   "display_name": "Python 3 (ipykernel)",
   "language": "python",
   "name": "python3"
  },
  "language_info": {
   "codemirror_mode": {
    "name": "ipython",
    "version": 3
   },
   "file_extension": ".py",
   "mimetype": "text/x-python",
   "name": "python",
   "nbconvert_exporter": "python",
   "pygments_lexer": "ipython3",
   "version": "3.9.12"
  }
 },
 "nbformat": 4,
 "nbformat_minor": 5
}
